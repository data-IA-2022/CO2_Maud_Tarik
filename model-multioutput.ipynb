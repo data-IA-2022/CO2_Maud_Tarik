{
 "cells": [
  {
   "cell_type": "markdown",
   "metadata": {},
   "source": [
    "<img src=\"static/img/co2.jpg.jpg\" width=\"850\" height=\"300\">"
   ]
  },
  {
   "cell_type": "markdown",
   "metadata": {},
   "source": [
    "## 1. Import des packages"
   ]
  },
  {
   "cell_type": "code",
   "execution_count": 1,
   "metadata": {
    "ExecuteTime": {
     "end_time": "2023-06-14T14:59:28.093956361Z",
     "start_time": "2023-06-14T14:59:25.471394717Z"
    }
   },
   "outputs": [],
   "source": [
    "# pip install pandas\n",
    "# !pip install sodapy"
   ]
  },
  {
   "cell_type": "code",
   "execution_count": 2,
   "metadata": {
    "ExecuteTime": {
     "end_time": "2023-06-14T14:59:28.213755441Z",
     "start_time": "2023-06-14T14:59:24.619740559Z"
    }
   },
   "outputs": [],
   "source": [
    "import pandas as pd"
   ]
  },
  {
   "cell_type": "markdown",
   "metadata": {},
   "source": [
    "## 2. Import du dataset"
   ]
  },
  {
   "cell_type": "code",
   "execution_count": 3,
   "metadata": {
    "ExecuteTime": {
     "end_time": "2023-06-14T14:59:28.214517671Z",
     "start_time": "2023-06-14T14:59:28.122966299Z"
    }
   },
   "outputs": [],
   "source": [
    "url = 'https://raw.githubusercontent.com/data-IA-2022/CO2_Maud_Tarik/main/data/2016_Building_Energy_Benchmarking.csv'\n",
    "\n",
    "#Read the CSV file into a DataFrame\n",
    "df = pd.read_csv(url, encoding=\"utf8\")"
   ]
  },
  {
   "cell_type": "code",
   "execution_count": 4,
   "metadata": {
    "ExecuteTime": {
     "end_time": "2023-06-14T14:59:40.307889679Z",
     "start_time": "2023-06-14T14:59:40.280657965Z"
    }
   },
   "outputs": [],
   "source": [
    "from sodapy import Socrata"
   ]
  },
  {
   "cell_type": "markdown",
   "metadata": {},
   "source": [
    "### Remove rows where ComplianceStatus == 'Missing Data'\n"
   ]
  },
  {
   "cell_type": "code",
   "execution_count": 5,
   "metadata": {
    "ExecuteTime": {
     "start_time": "2023-06-14T14:39:04.818149077Z"
    }
   },
   "outputs": [],
   "source": [
    "7939# Filter the DataFrame to keep only data with Compliant in ComplianceStatus\n",
    "df = df[df[\"ComplianceStatus\"] == 'Compliant']"
   ]
  },
  {
   "cell_type": "code",
   "execution_count": 6,
   "metadata": {
    "ExecuteTime": {
     "start_time": "2023-06-14T14:39:04.826015716Z"
    }
   },
   "outputs": [],
   "source": [
    "# Convert kBtu to kWh in the Electricity column\n",
    "df[\"Electricity(kWh)\"] = df[\"Electricity(kBtu)\"] * 0.29307107\n",
    "# Convert kBtu to kWh in the SteamUse column\n",
    "df['SteamUse(kWh)'] = df['SteamUse(kBtu)'] * 0.29307107\n",
    "# Convert kBtu to kWh in the SteamUse column\n",
    "df['NaturalGas(kWh)'] = df['NaturalGas(kBtu)'] * 0.29307107\n",
    "# Convert kBtu to kWh in the SteamUse column\n",
    "df['SiteEnergyUse(kWh)'] = df['SiteEnergyUse(kBtu)'] * 0.29307107\n",
    "# Convert sqrt feet in m²\n",
    "df['PropertyGFABuilding(s)'] = df['PropertyGFABuilding(s)'] * 0.092903"
   ]
  },
  {
   "cell_type": "code",
   "execution_count": 7,
   "metadata": {
    "ExecuteTime": {
     "start_time": "2023-06-14T14:39:04.827722276Z"
    }
   },
   "outputs": [],
   "source": [
    "# Convert the SiteEnergyUse column to the desired format\n",
    "df[\"SiteEnergyUse(kWh)\"] = df[\"SiteEnergyUse(kWh)\"].apply(lambda x: \"{:.2f}\".format(x))\n",
    "# Convert the Electricity(kWh) column to the desired format\n",
    "df[\"Electricity(kWh)\"] = df[\"Electricity(kWh)\"].apply(lambda x: \"{:.2f}\".format(x))\n",
    "# Convert the SteamUse(kWh) column to the desired format\n",
    "df[\"SteamUse(kWh)\"] = df[\"SteamUse(kWh)\"].apply(lambda x: \"{:.2f}\".format(x))\n",
    "# Convert the NaturalGas(kWh) column to the desired format\n",
    "df[\"NaturalGas(kWh)\"] = df[\"NaturalGas(kWh)\"].apply(lambda x: \"{:.2f}\".format(x))\n",
    "# Convert the PropertyGFABuilding(s) column to the desired format\n",
    "df[\"PropertyGFABuilding(s)\"] = df[\"PropertyGFABuilding(s)\"].apply(lambda x: \"{:.2f}\".format(x))"
   ]
  },
  {
   "cell_type": "code",
   "execution_count": 8,
   "metadata": {
    "ExecuteTime": {
     "start_time": "2023-06-14T14:39:04.828983103Z"
    }
   },
   "outputs": [],
   "source": [
    "# Convert the SiteEnergyUse column to float format\n",
    "df[\"SiteEnergyUse(kWh)\"] = df[\"SiteEnergyUse(kWh)\"].astype(float)\n",
    "# Convert the Electricity(kWh) column to float format\n",
    "df[\"Electricity(kWh)\"] = df[\"Electricity(kWh)\"].astype(float)\n",
    "# Convert the SteamUse(kWh) column to float format\n",
    "df[\"SteamUse(kWh)\"] = df[\"SteamUse(kWh)\"].astype(float)\n",
    "# Convert the NaturalGas(kWh) column to float format\n",
    "df[\"NaturalGas(kWh)\"] = df[\"NaturalGas(kWh)\"].astype(float)\n",
    "# Convert the PropertyGFABuilding(s) column to float format\n",
    "df[\"PropertyGFABuilding(s)\"] = df[\"PropertyGFABuilding(s)\"].astype(float)"
   ]
  },
  {
   "cell_type": "code",
   "execution_count": 9,
   "metadata": {
    "ExecuteTime": {
     "start_time": "2023-06-14T14:39:04.831406896Z"
    }
   },
   "outputs": [],
   "source": [
    "df = df[['DataYear', 'BuildingType', 'PrimaryPropertyType','PropertyName', 'City', 'Latitude',\n",
    "        'Longitude', 'YearBuilt', 'NumberofFloors', 'PropertyGFABuilding(s)', 'ListOfAllPropertyUseTypes',\n",
    "        'SteamUse(kWh)', 'Electricity(kWh)', 'NaturalGas(kWh)',  'TotalGHGEmissions', 'SiteEnergyUse(kWh)']]"
   ]
  },
  {
   "cell_type": "code",
   "execution_count": 10,
   "metadata": {
    "ExecuteTime": {
     "start_time": "2023-06-14T14:39:04.859935434Z"
    }
   },
   "outputs": [],
   "source": [
    "import numpy as np\n",
    "\n",
    "# Define the offset value\n",
    "offset = 1.0\n",
    "\n",
    "# Apply the offset logarithm transformation using numpy\n",
    "df[['log_totalghgemissions', 'log_siteenergyusekwh']] = df[['TotalGHGEmissions', 'SiteEnergyUse(kWh)']].apply(lambda x: np.log(x + offset))"
   ]
  },
  {
   "cell_type": "code",
   "execution_count": 11,
   "metadata": {
    "ExecuteTime": {
     "start_time": "2023-06-14T14:39:04.861295785Z"
    }
   },
   "outputs": [],
   "source": [
    "cols = ['SteamUse(kWh)', 'Electricity(kWh)', 'NaturalGas(kWh)']\n",
    "for col in cols:\n",
    "    #print(df[col].head())\n",
    "    df['is_using_'+col] = df[col].apply(lambda x: 0 if x == 0 else 1)"
   ]
  },
  {
   "cell_type": "markdown",
   "metadata": {},
   "source": [
    "## Import"
   ]
  },
  {
   "cell_type": "code",
   "execution_count": 12,
   "metadata": {},
   "outputs": [
    {
     "data": {
      "text/plain": [
       "'!pip install xgboost\\n!pip install lightgbm\\n!pip install scikit-learn'"
      ]
     },
     "execution_count": 12,
     "metadata": {},
     "output_type": "execute_result"
    }
   ],
   "source": [
    "'''!pip install xgboost\n",
    "!pip install lightgbm\n",
    "!pip install scikit-learn'''"
   ]
  },
  {
   "cell_type": "code",
   "execution_count": 44,
   "metadata": {},
   "outputs": [],
   "source": [
    "#pipeline\n",
    "from sklearn.model_selection import train_test_split\n",
    "from sklearn.pipeline import Pipeline\n",
    "from sklearn.preprocessing import OneHotEncoder, LabelEncoder, FunctionTransformer\n",
    "from sklearn.preprocessing import StandardScaler, RobustScaler\n",
    "\n",
    "#modèles\n",
    "import xgboost as xgb\n",
    "import lightgbm as lgb\n",
    "from sklearn.ensemble import GradientBoostingRegressor, RandomForestRegressor\n",
    "\n",
    "#validation croisée, gridsearch et métriques d'erreur\n",
    "from sklearn.multioutput import MultiOutputRegressor\n",
    "from sklearn.compose import ColumnTransformer\n",
    "from sklearn.metrics import r2_score, mean_squared_error\n",
    "from sklearn.model_selection import GridSearchCV\n",
    "\n",
    "import pickle\n",
    "import time\n"
   ]
  },
  {
   "cell_type": "markdown",
   "metadata": {},
   "source": [
    "## Pipeline"
   ]
  },
  {
   "cell_type": "code",
   "execution_count": 14,
   "metadata": {},
   "outputs": [],
   "source": [
    "df.dropna(subset=['log_totalghgemissions'], inplace=True)\n"
   ]
  },
  {
   "cell_type": "code",
   "execution_count": 15,
   "metadata": {},
   "outputs": [],
   "source": [
    "X = df.drop(['DataYear', 'PropertyName', 'City',  'Latitude', 'Longitude', 'ListOfAllPropertyUseTypes', 'SteamUse(kWh)',\n",
    "       'Electricity(kWh)', 'NaturalGas(kWh)', 'TotalGHGEmissions',\n",
    "       'SiteEnergyUse(kWh)', 'log_totalghgemissions', 'log_siteenergyusekwh'\n",
    "            #,'BuildingType', 'PrimaryPropertyType'\n",
    "            ], axis=1)\n",
    "y = df[['log_totalghgemissions', 'log_siteenergyusekwh']]\n",
    "#X_train, X_test, y_train, y_test = train_test_split(X, y, test_size=0.25, random_state=42)"
   ]
  },
  {
   "cell_type": "code",
   "execution_count": 16,
   "metadata": {},
   "outputs": [],
   "source": [
    "#variables catégorielles à transformer avec OneHotEncoder\n",
    "column_cat_onehot = ['BuildingType', 'PrimaryPropertyType'\n",
    "]\n",
    "transfo_cat_onehot = Pipeline(steps=[\n",
    "    ('onehot', OneHotEncoder(handle_unknown='ignore'))\n",
    "])"
   ]
  },
  {
   "cell_type": "code",
   "execution_count": 17,
   "metadata": {},
   "outputs": [],
   "source": [
    "column_numeric = ['YearBuilt', 'NumberofFloors',\n",
    "       'PropertyGFABuilding(s)']\n",
    "transfo_numeric = Pipeline(steps=[\n",
    "    ('scaling', StandardScaler())\n",
    "])"
   ]
  },
  {
   "cell_type": "code",
   "execution_count": 18,
   "metadata": {},
   "outputs": [],
   "source": [
    "column_bool = ['is_using_SteamUse(kWh)',\n",
    "       'is_using_Electricity(kWh)', 'is_using_NaturalGas(kWh)']\n",
    "transfo_bool = FunctionTransformer(validate=False)"
   ]
  },
  {
   "cell_type": "code",
   "execution_count": 73,
   "metadata": {},
   "outputs": [
    {
     "data": {
      "text/plain": [
       "\"#matrice de corrélation avant scaler\\nimport seaborn as sns\\n\\ndf_test = X[['YearBuilt', 'NumberofFloors',\\n       'PropertyGFABuilding(s)']]\\n\\ndf_test[['target1', 'target2']] = y\\n\\nsns.heatmap(df_test.corr(), annot=True)\""
      ]
     },
     "execution_count": 73,
     "metadata": {},
     "output_type": "execute_result"
    }
   ],
   "source": [
    "'''#matrice de corrélation avant scaler\n",
    "import seaborn as sns\n",
    "\n",
    "df_test = X[['YearBuilt', 'NumberofFloors',\n",
    "       'PropertyGFABuilding(s)']]\n",
    "\n",
    "df_test[['target1', 'target2']] = y\n",
    "\n",
    "sns.heatmap(df_test.corr(), annot=True)'''\n"
   ]
  },
  {
   "cell_type": "code",
   "execution_count": 74,
   "metadata": {},
   "outputs": [
    {
     "data": {
      "text/plain": [
       "\"#matrice de corrélation après scaler\\nscaler = RobustScaler()\\n\\ndf_test = X[['YearBuilt', 'NumberofFloors',\\n       'PropertyGFABuilding(s)']]\\n\\ndf_test[['target1', 'target2']] = y\\n\\ndf_test = scaler.fit_transform(df_test)\\n\\ndf_test = pd.DataFrame(df_test)\\n\\nsns.heatmap(df_test.corr(), annot=True)\""
      ]
     },
     "execution_count": 74,
     "metadata": {},
     "output_type": "execute_result"
    }
   ],
   "source": [
    "'''#matrice de corrélation après scaler\n",
    "scaler = RobustScaler()\n",
    "\n",
    "df_test = X[['YearBuilt', 'NumberofFloors',\n",
    "       'PropertyGFABuilding(s)']]\n",
    "\n",
    "df_test[['target1', 'target2']] = y\n",
    "\n",
    "df_test = scaler.fit_transform(df_test)\n",
    "\n",
    "df_test = pd.DataFrame(df_test)\n",
    "\n",
    "sns.heatmap(df_test.corr(), annot=True)'''\n"
   ]
  },
  {
   "cell_type": "code",
   "execution_count": 21,
   "metadata": {},
   "outputs": [],
   "source": [
    "# Création du préparateur de données\n",
    "preparation = ColumnTransformer(transformers=[\n",
    "    ('data_numeric', transfo_numeric, column_numeric),\n",
    "    ('data_cat_onehot', transfo_cat_onehot, column_cat_onehot),\n",
    "    ('data_bool', transfo_bool, column_bool)\n",
    "])"
   ]
  },
  {
   "cell_type": "code",
   "execution_count": 22,
   "metadata": {},
   "outputs": [
    {
     "data": {
      "text/plain": [
       "\"# Class ColumnTransformer : apply alls steps on the whole dataset\\npreparation = ColumnTransformer(\\n    transformers=[\\n        ('data_cat_onehot', transfo_cat_onehot , column_cat_onehot)\\n    ])\""
      ]
     },
     "execution_count": 22,
     "metadata": {},
     "output_type": "execute_result"
    }
   ],
   "source": [
    "'''# Class ColumnTransformer : apply alls steps on the whole dataset\n",
    "preparation = ColumnTransformer(\n",
    "    transformers=[\n",
    "        ('data_cat_onehot', transfo_cat_onehot , column_cat_onehot)\n",
    "    ])'''"
   ]
  },
  {
   "cell_type": "code",
   "execution_count": 23,
   "metadata": {},
   "outputs": [],
   "source": [
    "X_train, X_test, y_train, y_test = train_test_split(X, y, test_size=0.25, random_state=42)"
   ]
  },
  {
   "cell_type": "code",
   "execution_count": 24,
   "metadata": {},
   "outputs": [
    {
     "data": {
      "text/plain": [
       "\"# Appliquer le ColumnTransformer sur l'ensemble des features\\nX_transformed = preparation.fit_transform(X_untransformed)\\n\\n# Concaténer les features transformées avec les features non transformées\\nX_final = np.concatenate((X_transformed, X_untransformed), axis=1)\""
      ]
     },
     "execution_count": 24,
     "metadata": {},
     "output_type": "execute_result"
    }
   ],
   "source": [
    "'''# Appliquer le ColumnTransformer sur l'ensemble des features\n",
    "X_transformed = preparation.fit_transform(X_untransformed)\n",
    "\n",
    "# Concaténer les features transformées avec les features non transformées\n",
    "X_final = np.concatenate((X_transformed, X_untransformed), axis=1)'''"
   ]
  },
  {
   "cell_type": "markdown",
   "metadata": {},
   "source": [
    "## Models"
   ]
  },
  {
   "cell_type": "code",
   "execution_count": 25,
   "metadata": {},
   "outputs": [],
   "source": [
    "models = [\n",
    "    xgb.XGBRegressor(),\n",
    "    lgb.LGBMRegressor(),\n",
    "    GradientBoostingRegressor(),\n",
    "    RandomForestRegressor()\n",
    "]\n"
   ]
  },
  {
   "cell_type": "code",
   "execution_count": 26,
   "metadata": {},
   "outputs": [],
   "source": [
    "parameters_xgb = {\n",
    "    'model__estimator__n_estimators': [100, 200, 500],\n",
    "    'model__estimator__max_depth': [3, 5, 7],\n",
    "    'model__estimator__learning_rate': [0.1, 0.01, 0.001]\n",
    "}\n",
    "\n",
    "parameters_lgb = {\n",
    "    'model__estimator__n_estimators': [100, 200, 500],\n",
    "    'model__estimator__max_depth': [3, 5, 7],\n",
    "    'model__estimator__learning_rate': [0.1, 0.01, 0.001]\n",
    "}\n",
    "\n",
    "parameters_gbt = {\n",
    "    'model__estimator__n_estimators': [100, 200, 500],\n",
    "    'model__estimator__max_depth': [3, 5, 7],\n",
    "    'model__estimator__learning_rate': [0.1, 0.01, 0.001]\n",
    "}\n",
    "\n",
    "parameters_rf = {\n",
    "    'model__estimator__n_estimators': [100, 200, 500],\n",
    "    'model__estimator__max_depth': [3, 5, 7]\n",
    "}\n",
    "\n"
   ]
  },
  {
   "cell_type": "code",
   "execution_count": 27,
   "metadata": {},
   "outputs": [],
   "source": [
    "models_opti = []\n",
    "parameters = {}"
   ]
  },
  {
   "cell_type": "code",
   "execution_count": null,
   "metadata": {},
   "outputs": [],
   "source": []
  },
  {
   "cell_type": "code",
   "execution_count": 71,
   "metadata": {},
   "outputs": [
    {
     "name": "stdout",
     "output_type": "stream",
     "text": [
      "XGBRegressor(base_score=None, booster=None, callbacks=None,\n",
      "             colsample_bylevel=None, colsample_bynode=None,\n",
      "             colsample_bytree=None, early_stopping_rounds=None,\n",
      "             enable_categorical=False, eval_metric=None, feature_types=None,\n",
      "             gamma=None, gpu_id=None, grow_policy=None, importance_type=None,\n",
      "             interaction_constraints=None, learning_rate=None, max_bin=None,\n",
      "             max_cat_threshold=None, max_cat_to_onehot=None,\n",
      "             max_delta_step=None, max_depth=None, max_leaves=None,\n",
      "             min_child_weight=None, missing=nan, monotone_constraints=None,\n",
      "             n_estimators=100, n_jobs=None, num_parallel_tree=None,\n",
      "             predictor=None, random_state=None, ...) 0.7942026016405036 {'model__estimator__learning_rate': 0.1, 'model__estimator__max_depth': 5, 'model__estimator__n_estimators': 100} --- Temps de calcul: 79.14455366134644 secondes\n",
      "LGBMRegressor() 0.7790256209270399 {'model__estimator__learning_rate': 0.1, 'model__estimator__max_depth': 5, 'model__estimator__n_estimators': 100} --- Temps de calcul: 32.25520896911621 secondes\n",
      "GradientBoostingRegressor() 0.7937601823877988 {'model__estimator__learning_rate': 0.1, 'model__estimator__max_depth': 5, 'model__estimator__n_estimators': 100} --- Temps de calcul: 296.65037059783936 secondes\n",
      "RandomForestRegressor() 0.7674390686656132 {'model__estimator__max_depth': 7, 'model__estimator__n_estimators': 500} --- Temps de calcul: 109.40328598022461 secondes\n"
     ]
    }
   ],
   "source": [
    "#boucle sur chaque modèle de ma liste, pour lesquels je vais tester les différents paramètres définis plus tôt et enregistrer la meilleure version de chaque modèle dans une liste\n",
    "for n in models:\n",
    "    \n",
    "    multi_reg = MultiOutputRegressor(n)\n",
    "    \n",
    "    model = Pipeline(steps=[('preparation', preparation),\n",
    "                    ('model',multi_reg)])\n",
    "    \n",
    "\n",
    "    if isinstance(n, xgb.XGBRegressor):\n",
    "        parameters = parameters_xgb\n",
    "    elif isinstance(n, RandomForestRegressor):\n",
    "        parameters = parameters_rf\n",
    "    elif isinstance(n, lgb.LGBMRegressor):\n",
    "        parameters = parameters_lgb\n",
    "    elif isinstance(n, GradientBoostingRegressor):\n",
    "        parameters = parameters_gbt\n",
    "\n",
    "#enregistrement de la meilleure version de chaque modèe\n",
    "    gscv = GridSearchCV(model, parameters, scoring='r2', cv=5)\n",
    "    start_time = time.time()  # Temps de début du calcul\n",
    "    gscv.fit(X_train, y_train)\n",
    "    end_time = time.time()  # Temps de fin du calcul\n",
    "    models_opti.append(gscv)\n",
    "    \n",
    "    #print(n, \"Résultat\", gscv.cv_results_['mean_test_score'])\n",
    "    elapsed_time = end_time - start_time  # Temps écoulé en secondes\n",
    "    print(n, gscv.best_score_, gscv.best_params_, \"--- Temps de calcul:\", elapsed_time, \"secondes\")"
   ]
  },
  {
   "cell_type": "code",
   "execution_count": 72,
   "metadata": {},
   "outputs": [
    {
     "data": {
      "text/html": [
       "<style>#sk-container-id-3 {color: black;background-color: white;}#sk-container-id-3 pre{padding: 0;}#sk-container-id-3 div.sk-toggleable {background-color: white;}#sk-container-id-3 label.sk-toggleable__label {cursor: pointer;display: block;width: 100%;margin-bottom: 0;padding: 0.3em;box-sizing: border-box;text-align: center;}#sk-container-id-3 label.sk-toggleable__label-arrow:before {content: \"▸\";float: left;margin-right: 0.25em;color: #696969;}#sk-container-id-3 label.sk-toggleable__label-arrow:hover:before {color: black;}#sk-container-id-3 div.sk-estimator:hover label.sk-toggleable__label-arrow:before {color: black;}#sk-container-id-3 div.sk-toggleable__content {max-height: 0;max-width: 0;overflow: hidden;text-align: left;background-color: #f0f8ff;}#sk-container-id-3 div.sk-toggleable__content pre {margin: 0.2em;color: black;border-radius: 0.25em;background-color: #f0f8ff;}#sk-container-id-3 input.sk-toggleable__control:checked~div.sk-toggleable__content {max-height: 200px;max-width: 100%;overflow: auto;}#sk-container-id-3 input.sk-toggleable__control:checked~label.sk-toggleable__label-arrow:before {content: \"▾\";}#sk-container-id-3 div.sk-estimator input.sk-toggleable__control:checked~label.sk-toggleable__label {background-color: #d4ebff;}#sk-container-id-3 div.sk-label input.sk-toggleable__control:checked~label.sk-toggleable__label {background-color: #d4ebff;}#sk-container-id-3 input.sk-hidden--visually {border: 0;clip: rect(1px 1px 1px 1px);clip: rect(1px, 1px, 1px, 1px);height: 1px;margin: -1px;overflow: hidden;padding: 0;position: absolute;width: 1px;}#sk-container-id-3 div.sk-estimator {font-family: monospace;background-color: #f0f8ff;border: 1px dotted black;border-radius: 0.25em;box-sizing: border-box;margin-bottom: 0.5em;}#sk-container-id-3 div.sk-estimator:hover {background-color: #d4ebff;}#sk-container-id-3 div.sk-parallel-item::after {content: \"\";width: 100%;border-bottom: 1px solid gray;flex-grow: 1;}#sk-container-id-3 div.sk-label:hover label.sk-toggleable__label {background-color: #d4ebff;}#sk-container-id-3 div.sk-serial::before {content: \"\";position: absolute;border-left: 1px solid gray;box-sizing: border-box;top: 0;bottom: 0;left: 50%;z-index: 0;}#sk-container-id-3 div.sk-serial {display: flex;flex-direction: column;align-items: center;background-color: white;padding-right: 0.2em;padding-left: 0.2em;position: relative;}#sk-container-id-3 div.sk-item {position: relative;z-index: 1;}#sk-container-id-3 div.sk-parallel {display: flex;align-items: stretch;justify-content: center;background-color: white;position: relative;}#sk-container-id-3 div.sk-item::before, #sk-container-id-3 div.sk-parallel-item::before {content: \"\";position: absolute;border-left: 1px solid gray;box-sizing: border-box;top: 0;bottom: 0;left: 50%;z-index: -1;}#sk-container-id-3 div.sk-parallel-item {display: flex;flex-direction: column;z-index: 1;position: relative;background-color: white;}#sk-container-id-3 div.sk-parallel-item:first-child::after {align-self: flex-end;width: 50%;}#sk-container-id-3 div.sk-parallel-item:last-child::after {align-self: flex-start;width: 50%;}#sk-container-id-3 div.sk-parallel-item:only-child::after {width: 0;}#sk-container-id-3 div.sk-dashed-wrapped {border: 1px dashed gray;margin: 0 0.4em 0.5em 0.4em;box-sizing: border-box;padding-bottom: 0.4em;background-color: white;}#sk-container-id-3 div.sk-label label {font-family: monospace;font-weight: bold;display: inline-block;line-height: 1.2em;}#sk-container-id-3 div.sk-label-container {text-align: center;}#sk-container-id-3 div.sk-container {/* jupyter's `normalize.less` sets `[hidden] { display: none; }` but bootstrap.min.css set `[hidden] { display: none !important; }` so we also need the `!important` here to be able to override the default hidden behavior on the sphinx rendered scikit-learn.org. See: https://github.com/scikit-learn/scikit-learn/issues/21755 */display: inline-block !important;position: relative;}#sk-container-id-3 div.sk-text-repr-fallback {display: none;}</style><div id=\"sk-container-id-3\" class=\"sk-top-container\"><div class=\"sk-text-repr-fallback\"><pre>Pipeline(steps=[(&#x27;preparation&#x27;,\n",
       "                 ColumnTransformer(transformers=[(&#x27;data_numeric&#x27;,\n",
       "                                                  Pipeline(steps=[(&#x27;scaling&#x27;,\n",
       "                                                                   StandardScaler())]),\n",
       "                                                  [&#x27;YearBuilt&#x27;,\n",
       "                                                   &#x27;NumberofFloors&#x27;,\n",
       "                                                   &#x27;PropertyGFABuilding(s)&#x27;]),\n",
       "                                                 (&#x27;data_cat_onehot&#x27;,\n",
       "                                                  Pipeline(steps=[(&#x27;onehot&#x27;,\n",
       "                                                                   OneHotEncoder(handle_unknown=&#x27;ignore&#x27;))]),\n",
       "                                                  [&#x27;BuildingType&#x27;,\n",
       "                                                   &#x27;PrimaryPropertyType&#x27;]),\n",
       "                                                 (&#x27;data_bool&#x27;,\n",
       "                                                  FunctionTransformer(),\n",
       "                                                  [&#x27;is_...\n",
       "                                                             gpu_id=None,\n",
       "                                                             grow_policy=None,\n",
       "                                                             importance_type=None,\n",
       "                                                             interaction_constraints=None,\n",
       "                                                             learning_rate=0.1,\n",
       "                                                             max_bin=None,\n",
       "                                                             max_cat_threshold=None,\n",
       "                                                             max_cat_to_onehot=None,\n",
       "                                                             max_delta_step=None,\n",
       "                                                             max_depth=5,\n",
       "                                                             max_leaves=None,\n",
       "                                                             min_child_weight=None,\n",
       "                                                             missing=nan,\n",
       "                                                             monotone_constraints=None,\n",
       "                                                             n_estimators=100,\n",
       "                                                             n_jobs=None,\n",
       "                                                             num_parallel_tree=None,\n",
       "                                                             predictor=None,\n",
       "                                                             random_state=None, ...)))])</pre><b>In a Jupyter environment, please rerun this cell to show the HTML representation or trust the notebook. <br />On GitHub, the HTML representation is unable to render, please try loading this page with nbviewer.org.</b></div><div class=\"sk-container\" hidden><div class=\"sk-item sk-dashed-wrapped\"><div class=\"sk-label-container\"><div class=\"sk-label sk-toggleable\"><input class=\"sk-toggleable__control sk-hidden--visually\" id=\"sk-estimator-id-24\" type=\"checkbox\" ><label for=\"sk-estimator-id-24\" class=\"sk-toggleable__label sk-toggleable__label-arrow\">Pipeline</label><div class=\"sk-toggleable__content\"><pre>Pipeline(steps=[(&#x27;preparation&#x27;,\n",
       "                 ColumnTransformer(transformers=[(&#x27;data_numeric&#x27;,\n",
       "                                                  Pipeline(steps=[(&#x27;scaling&#x27;,\n",
       "                                                                   StandardScaler())]),\n",
       "                                                  [&#x27;YearBuilt&#x27;,\n",
       "                                                   &#x27;NumberofFloors&#x27;,\n",
       "                                                   &#x27;PropertyGFABuilding(s)&#x27;]),\n",
       "                                                 (&#x27;data_cat_onehot&#x27;,\n",
       "                                                  Pipeline(steps=[(&#x27;onehot&#x27;,\n",
       "                                                                   OneHotEncoder(handle_unknown=&#x27;ignore&#x27;))]),\n",
       "                                                  [&#x27;BuildingType&#x27;,\n",
       "                                                   &#x27;PrimaryPropertyType&#x27;]),\n",
       "                                                 (&#x27;data_bool&#x27;,\n",
       "                                                  FunctionTransformer(),\n",
       "                                                  [&#x27;is_...\n",
       "                                                             gpu_id=None,\n",
       "                                                             grow_policy=None,\n",
       "                                                             importance_type=None,\n",
       "                                                             interaction_constraints=None,\n",
       "                                                             learning_rate=0.1,\n",
       "                                                             max_bin=None,\n",
       "                                                             max_cat_threshold=None,\n",
       "                                                             max_cat_to_onehot=None,\n",
       "                                                             max_delta_step=None,\n",
       "                                                             max_depth=5,\n",
       "                                                             max_leaves=None,\n",
       "                                                             min_child_weight=None,\n",
       "                                                             missing=nan,\n",
       "                                                             monotone_constraints=None,\n",
       "                                                             n_estimators=100,\n",
       "                                                             n_jobs=None,\n",
       "                                                             num_parallel_tree=None,\n",
       "                                                             predictor=None,\n",
       "                                                             random_state=None, ...)))])</pre></div></div></div><div class=\"sk-serial\"><div class=\"sk-item sk-dashed-wrapped\"><div class=\"sk-label-container\"><div class=\"sk-label sk-toggleable\"><input class=\"sk-toggleable__control sk-hidden--visually\" id=\"sk-estimator-id-25\" type=\"checkbox\" ><label for=\"sk-estimator-id-25\" class=\"sk-toggleable__label sk-toggleable__label-arrow\">preparation: ColumnTransformer</label><div class=\"sk-toggleable__content\"><pre>ColumnTransformer(transformers=[(&#x27;data_numeric&#x27;,\n",
       "                                 Pipeline(steps=[(&#x27;scaling&#x27;,\n",
       "                                                  StandardScaler())]),\n",
       "                                 [&#x27;YearBuilt&#x27;, &#x27;NumberofFloors&#x27;,\n",
       "                                  &#x27;PropertyGFABuilding(s)&#x27;]),\n",
       "                                (&#x27;data_cat_onehot&#x27;,\n",
       "                                 Pipeline(steps=[(&#x27;onehot&#x27;,\n",
       "                                                  OneHotEncoder(handle_unknown=&#x27;ignore&#x27;))]),\n",
       "                                 [&#x27;BuildingType&#x27;, &#x27;PrimaryPropertyType&#x27;]),\n",
       "                                (&#x27;data_bool&#x27;, FunctionTransformer(),\n",
       "                                 [&#x27;is_using_SteamUse(kWh)&#x27;,\n",
       "                                  &#x27;is_using_Electricity(kWh)&#x27;,\n",
       "                                  &#x27;is_using_NaturalGas(kWh)&#x27;])])</pre></div></div></div><div class=\"sk-parallel\"><div class=\"sk-parallel-item\"><div class=\"sk-item\"><div class=\"sk-label-container\"><div class=\"sk-label sk-toggleable\"><input class=\"sk-toggleable__control sk-hidden--visually\" id=\"sk-estimator-id-26\" type=\"checkbox\" ><label for=\"sk-estimator-id-26\" class=\"sk-toggleable__label sk-toggleable__label-arrow\">data_numeric</label><div class=\"sk-toggleable__content\"><pre>[&#x27;YearBuilt&#x27;, &#x27;NumberofFloors&#x27;, &#x27;PropertyGFABuilding(s)&#x27;]</pre></div></div></div><div class=\"sk-serial\"><div class=\"sk-item\"><div class=\"sk-serial\"><div class=\"sk-item\"><div class=\"sk-estimator sk-toggleable\"><input class=\"sk-toggleable__control sk-hidden--visually\" id=\"sk-estimator-id-27\" type=\"checkbox\" ><label for=\"sk-estimator-id-27\" class=\"sk-toggleable__label sk-toggleable__label-arrow\">StandardScaler</label><div class=\"sk-toggleable__content\"><pre>StandardScaler()</pre></div></div></div></div></div></div></div></div><div class=\"sk-parallel-item\"><div class=\"sk-item\"><div class=\"sk-label-container\"><div class=\"sk-label sk-toggleable\"><input class=\"sk-toggleable__control sk-hidden--visually\" id=\"sk-estimator-id-28\" type=\"checkbox\" ><label for=\"sk-estimator-id-28\" class=\"sk-toggleable__label sk-toggleable__label-arrow\">data_cat_onehot</label><div class=\"sk-toggleable__content\"><pre>[&#x27;BuildingType&#x27;, &#x27;PrimaryPropertyType&#x27;]</pre></div></div></div><div class=\"sk-serial\"><div class=\"sk-item\"><div class=\"sk-serial\"><div class=\"sk-item\"><div class=\"sk-estimator sk-toggleable\"><input class=\"sk-toggleable__control sk-hidden--visually\" id=\"sk-estimator-id-29\" type=\"checkbox\" ><label for=\"sk-estimator-id-29\" class=\"sk-toggleable__label sk-toggleable__label-arrow\">OneHotEncoder</label><div class=\"sk-toggleable__content\"><pre>OneHotEncoder(handle_unknown=&#x27;ignore&#x27;)</pre></div></div></div></div></div></div></div></div><div class=\"sk-parallel-item\"><div class=\"sk-item\"><div class=\"sk-label-container\"><div class=\"sk-label sk-toggleable\"><input class=\"sk-toggleable__control sk-hidden--visually\" id=\"sk-estimator-id-30\" type=\"checkbox\" ><label for=\"sk-estimator-id-30\" class=\"sk-toggleable__label sk-toggleable__label-arrow\">data_bool</label><div class=\"sk-toggleable__content\"><pre>[&#x27;is_using_SteamUse(kWh)&#x27;, &#x27;is_using_Electricity(kWh)&#x27;, &#x27;is_using_NaturalGas(kWh)&#x27;]</pre></div></div></div><div class=\"sk-serial\"><div class=\"sk-item\"><div class=\"sk-estimator sk-toggleable\"><input class=\"sk-toggleable__control sk-hidden--visually\" id=\"sk-estimator-id-31\" type=\"checkbox\" ><label for=\"sk-estimator-id-31\" class=\"sk-toggleable__label sk-toggleable__label-arrow\">FunctionTransformer</label><div class=\"sk-toggleable__content\"><pre>FunctionTransformer()</pre></div></div></div></div></div></div></div></div><div class=\"sk-item sk-dashed-wrapped\"><div class=\"sk-label-container\"><div class=\"sk-label sk-toggleable\"><input class=\"sk-toggleable__control sk-hidden--visually\" id=\"sk-estimator-id-32\" type=\"checkbox\" ><label for=\"sk-estimator-id-32\" class=\"sk-toggleable__label sk-toggleable__label-arrow\">model: MultiOutputRegressor</label><div class=\"sk-toggleable__content\"><pre>MultiOutputRegressor(estimator=XGBRegressor(base_score=None, booster=None,\n",
       "                                            callbacks=None,\n",
       "                                            colsample_bylevel=None,\n",
       "                                            colsample_bynode=None,\n",
       "                                            colsample_bytree=None,\n",
       "                                            early_stopping_rounds=None,\n",
       "                                            enable_categorical=False,\n",
       "                                            eval_metric=None,\n",
       "                                            feature_types=None, gamma=None,\n",
       "                                            gpu_id=None, grow_policy=None,\n",
       "                                            importance_type=None,\n",
       "                                            interaction_constraints=None,\n",
       "                                            learning_rate=0.1, max_bin=None,\n",
       "                                            max_cat_threshold=None,\n",
       "                                            max_cat_to_onehot=None,\n",
       "                                            max_delta_step=None, max_depth=5,\n",
       "                                            max_leaves=None,\n",
       "                                            min_child_weight=None, missing=nan,\n",
       "                                            monotone_constraints=None,\n",
       "                                            n_estimators=100, n_jobs=None,\n",
       "                                            num_parallel_tree=None,\n",
       "                                            predictor=None, random_state=None, ...))</pre></div></div></div><div class=\"sk-parallel\"><div class=\"sk-parallel-item\"><div class=\"sk-item\"><div class=\"sk-label-container\"><div class=\"sk-label sk-toggleable\"><input class=\"sk-toggleable__control sk-hidden--visually\" id=\"sk-estimator-id-33\" type=\"checkbox\" ><label for=\"sk-estimator-id-33\" class=\"sk-toggleable__label sk-toggleable__label-arrow\">estimator: XGBRegressor</label><div class=\"sk-toggleable__content\"><pre>XGBRegressor(base_score=None, booster=None, callbacks=None,\n",
       "             colsample_bylevel=None, colsample_bynode=None,\n",
       "             colsample_bytree=None, early_stopping_rounds=None,\n",
       "             enable_categorical=False, eval_metric=None, feature_types=None,\n",
       "             gamma=None, gpu_id=None, grow_policy=None, importance_type=None,\n",
       "             interaction_constraints=None, learning_rate=0.1, max_bin=None,\n",
       "             max_cat_threshold=None, max_cat_to_onehot=None,\n",
       "             max_delta_step=None, max_depth=5, max_leaves=None,\n",
       "             min_child_weight=None, missing=nan, monotone_constraints=None,\n",
       "             n_estimators=100, n_jobs=None, num_parallel_tree=None,\n",
       "             predictor=None, random_state=None, ...)</pre></div></div></div><div class=\"sk-serial\"><div class=\"sk-item\"><div class=\"sk-estimator sk-toggleable\"><input class=\"sk-toggleable__control sk-hidden--visually\" id=\"sk-estimator-id-34\" type=\"checkbox\" ><label for=\"sk-estimator-id-34\" class=\"sk-toggleable__label sk-toggleable__label-arrow\">XGBRegressor</label><div class=\"sk-toggleable__content\"><pre>XGBRegressor(base_score=None, booster=None, callbacks=None,\n",
       "             colsample_bylevel=None, colsample_bynode=None,\n",
       "             colsample_bytree=None, early_stopping_rounds=None,\n",
       "             enable_categorical=False, eval_metric=None, feature_types=None,\n",
       "             gamma=None, gpu_id=None, grow_policy=None, importance_type=None,\n",
       "             interaction_constraints=None, learning_rate=0.1, max_bin=None,\n",
       "             max_cat_threshold=None, max_cat_to_onehot=None,\n",
       "             max_delta_step=None, max_depth=5, max_leaves=None,\n",
       "             min_child_weight=None, missing=nan, monotone_constraints=None,\n",
       "             n_estimators=100, n_jobs=None, num_parallel_tree=None,\n",
       "             predictor=None, random_state=None, ...)</pre></div></div></div></div></div></div></div></div></div></div></div></div>"
      ],
      "text/plain": [
       "Pipeline(steps=[('preparation',\n",
       "                 ColumnTransformer(transformers=[('data_numeric',\n",
       "                                                  Pipeline(steps=[('scaling',\n",
       "                                                                   StandardScaler())]),\n",
       "                                                  ['YearBuilt',\n",
       "                                                   'NumberofFloors',\n",
       "                                                   'PropertyGFABuilding(s)']),\n",
       "                                                 ('data_cat_onehot',\n",
       "                                                  Pipeline(steps=[('onehot',\n",
       "                                                                   OneHotEncoder(handle_unknown='ignore'))]),\n",
       "                                                  ['BuildingType',\n",
       "                                                   'PrimaryPropertyType']),\n",
       "                                                 ('data_bool',\n",
       "                                                  FunctionTransformer(),\n",
       "                                                  ['is_...\n",
       "                                                             gpu_id=None,\n",
       "                                                             grow_policy=None,\n",
       "                                                             importance_type=None,\n",
       "                                                             interaction_constraints=None,\n",
       "                                                             learning_rate=0.1,\n",
       "                                                             max_bin=None,\n",
       "                                                             max_cat_threshold=None,\n",
       "                                                             max_cat_to_onehot=None,\n",
       "                                                             max_delta_step=None,\n",
       "                                                             max_depth=5,\n",
       "                                                             max_leaves=None,\n",
       "                                                             min_child_weight=None,\n",
       "                                                             missing=nan,\n",
       "                                                             monotone_constraints=None,\n",
       "                                                             n_estimators=100,\n",
       "                                                             n_jobs=None,\n",
       "                                                             num_parallel_tree=None,\n",
       "                                                             predictor=None,\n",
       "                                                             random_state=None, ...)))])"
      ]
     },
     "execution_count": 72,
     "metadata": {},
     "output_type": "execute_result"
    }
   ],
   "source": [
    "best_score = float('-inf')\n",
    "best_model = None\n",
    "\n",
    "for model_opti in models_opti:\n",
    "    if model_opti.best_score_ > best_score:\n",
    "        best_score = model_opti.best_score_\n",
    "        best_model = model_opti.best_estimator_\n",
    "\n",
    "best_model"
   ]
  },
  {
   "cell_type": "code",
   "execution_count": 30,
   "metadata": {},
   "outputs": [
    {
     "name": "stdout",
     "output_type": "stream",
     "text": [
      "Mean Squared Error: 0.3967163449948135\n",
      "R-squared Score: 0.7787738807261693\n"
     ]
    }
   ],
   "source": [
    "from sklearn.metrics import mean_squared_error, r2_score\n",
    "\n",
    "# test the model on the test data and display the scores\n",
    "y_pred = model_tm.predict(X_test)\n",
    "mse = mean_squared_error(y_test, y_pred)\n",
    "r2 = r2_score(y_test, y_pred)\n",
    "\n",
    "print(\"Mean Squared Error:\", mse)\n",
    "print(\"R-squared Score:\", r2)\n"
   ]
  },
  {
   "cell_type": "markdown",
   "metadata": {},
   "source": [
    "## Prédiction"
   ]
  },
  {
   "cell_type": "code",
   "execution_count": 31,
   "metadata": {},
   "outputs": [
    {
     "data": {
      "text/plain": [
       "Index(['BuildingType', 'PrimaryPropertyType', 'YearBuilt', 'NumberofFloors',\n",
       "       'PropertyGFABuilding(s)', 'is_using_SteamUse(kWh)',\n",
       "       'is_using_Electricity(kWh)', 'is_using_NaturalGas(kWh)'],\n",
       "      dtype='object')"
      ]
     },
     "execution_count": 31,
     "metadata": {},
     "output_type": "execute_result"
    }
   ],
   "source": [
    "X.columns"
   ]
  },
  {
   "cell_type": "code",
   "execution_count": null,
   "metadata": {},
   "outputs": [],
   "source": [
    "y.head()"
   ]
  },
  {
   "cell_type": "code",
   "execution_count": 68,
   "metadata": {},
   "outputs": [
    {
     "data": {
      "text/html": [
       "<div>\n",
       "<style scoped>\n",
       "    .dataframe tbody tr th:only-of-type {\n",
       "        vertical-align: middle;\n",
       "    }\n",
       "\n",
       "    .dataframe tbody tr th {\n",
       "        vertical-align: top;\n",
       "    }\n",
       "\n",
       "    .dataframe thead th {\n",
       "        text-align: right;\n",
       "    }\n",
       "</style>\n",
       "<table border=\"1\" class=\"dataframe\">\n",
       "  <thead>\n",
       "    <tr style=\"text-align: right;\">\n",
       "      <th></th>\n",
       "      <th>BuildingType</th>\n",
       "      <th>PrimaryPropertyType</th>\n",
       "      <th>YearBuilt</th>\n",
       "      <th>NumberofFloors</th>\n",
       "      <th>PropertyGFABuilding(s)</th>\n",
       "      <th>is_using_SteamUse(kWh)</th>\n",
       "      <th>is_using_Electricity(kWh)</th>\n",
       "      <th>is_using_NaturalGas(kWh)</th>\n",
       "    </tr>\n",
       "  </thead>\n",
       "  <tbody>\n",
       "    <tr>\n",
       "      <th>0</th>\n",
       "      <td>NonResidential</td>\n",
       "      <td>Other</td>\n",
       "      <td>1912</td>\n",
       "      <td>3</td>\n",
       "      <td>34976</td>\n",
       "      <td>1</td>\n",
       "      <td>1</td>\n",
       "      <td>1</td>\n",
       "    </tr>\n",
       "  </tbody>\n",
       "</table>\n",
       "</div>"
      ],
      "text/plain": [
       "     BuildingType PrimaryPropertyType  YearBuilt  NumberofFloors  \\\n",
       "0  NonResidential               Other       1912               3   \n",
       "\n",
       "   PropertyGFABuilding(s)  is_using_SteamUse(kWh)  is_using_Electricity(kWh)  \\\n",
       "0                   34976                       1                          1   \n",
       "\n",
       "   is_using_NaturalGas(kWh)  \n",
       "0                         1  "
      ]
     },
     "execution_count": 68,
     "metadata": {},
     "output_type": "execute_result"
    }
   ],
   "source": [
    "new_data={\n",
    "        'BuildingType': 'NonResidential',\n",
    "        'PrimaryPropertyType': 'Other',\n",
    "        'YearBuilt': [1912],\n",
    "        'NumberofFloors': [3],\n",
    "        'PropertyGFABuilding(s)': [34976],\n",
    "        'is_using_SteamUse(kWh)': [1],\n",
    "        'is_using_Electricity(kWh)': [1],\n",
    "        'is_using_NaturalGas(kWh)': [1]\n",
    "}\n",
    "\n",
    "df_pred = pd.DataFrame(new_data, index=[0])\n",
    "df_pred"
   ]
  },
  {
   "cell_type": "code",
   "execution_count": 69,
   "metadata": {},
   "outputs": [],
   "source": [
    "pred_satisfaction = best_model.predict(df_pred)"
   ]
  },
  {
   "cell_type": "code",
   "execution_count": 70,
   "metadata": {},
   "outputs": [
    {
     "name": "stdout",
     "output_type": "stream",
     "text": [
      "Total GHG Emissions: 536.48 équivalent tonne CO2\n",
      "Site Energy Use: 7295705.0 kWh\n"
     ]
    }
   ],
   "source": [
    "pred_satisfaction_original = np.exp(pred_satisfaction)\n",
    "\n",
    "ghgemissions = round(pred_satisfaction_original[0][0], 2)\n",
    "\n",
    "energyuse = round(pred_satisfaction_original[0][1], 2)\n",
    "\n",
    "print(\"Total GHG Emissions:\", ghgemissions, \"équivalent tonne CO2\")\n",
    "print(\"Site Energy Use:\", energyuse, \"kWh\")"
   ]
  },
  {
   "cell_type": "markdown",
   "metadata": {},
   "source": [
    "## Save model"
   ]
  },
  {
   "cell_type": "code",
   "execution_count": 35,
   "metadata": {},
   "outputs": [
    {
     "data": {
      "text/plain": [
       "\"with open('model.pickle', 'wb') as f:\\n    pickle.dump(model_tm, f)\\n\\nf.close()\""
      ]
     },
     "execution_count": 35,
     "metadata": {},
     "output_type": "execute_result"
    }
   ],
   "source": [
    "'''with open('model.pickle', 'wb') as f:\n",
    "    pickle.dump(model_tm, f)\n",
    "\n",
    "f.close()'''\n"
   ]
  },
  {
   "cell_type": "code",
   "execution_count": 36,
   "metadata": {},
   "outputs": [
    {
     "data": {
      "text/plain": [
       "\"with open('model.pickle', 'rb') as f:\\n    loaded_model = pickle.load(f)\\n\\nf.close()\""
      ]
     },
     "execution_count": 36,
     "metadata": {},
     "output_type": "execute_result"
    }
   ],
   "source": [
    "'''with open('model.pickle', 'rb') as f:\n",
    "    loaded_model = pickle.load(f)\n",
    "\n",
    "f.close()'''\n"
   ]
  }
 ],
 "metadata": {
  "kernelspec": {
   "display_name": "Python 3 (ipykernel)",
   "language": "python",
   "name": "python3"
  },
  "language_info": {
   "codemirror_mode": {
    "name": "ipython",
    "version": 3
   },
   "file_extension": ".py",
   "mimetype": "text/x-python",
   "name": "python",
   "nbconvert_exporter": "python",
   "pygments_lexer": "ipython3",
   "version": "3.9.13"
  }
 },
 "nbformat": 4,
 "nbformat_minor": 2
}
