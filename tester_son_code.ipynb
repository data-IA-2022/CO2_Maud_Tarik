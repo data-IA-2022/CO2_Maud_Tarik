{
 "cells": [
  {
   "cell_type": "code",
   "execution_count": 1,
   "metadata": {},
   "outputs": [],
   "source": [
    "try:\n",
    "  numerateur = int(input(\"Indique le numérateur\"))\n",
    "  denominateur = int(input(\"Indique le dénominateur\"))\n",
    "  division = numerateur / denominateur\n",
    "  print(f\"{numerateur}/{denominateur} = {division}\")\n",
    "except ZeroDivisionError:\n",
    "  print('Le dénominateur ne doit pas être égal à 0')\n",
    "except ValueError:\n",
    "  print(\"La valeur indiquée n'est pas correcte\")"
   ]
  }
 ],
 "metadata": {
  "kernelspec": {
   "display_name": "co2_venv",
   "language": "python",
   "name": "python3"
  },
  "language_info": {
   "codemirror_mode": {
    "name": "ipython",
    "version": 3
   },
   "file_extension": ".py",
   "mimetype": "text/x-python",
   "name": "python",
   "nbconvert_exporter": "python",
   "pygments_lexer": "ipython3",
   "version": "3.10.6"
  },
  "orig_nbformat": 4
 },
 "nbformat": 4,
 "nbformat_minor": 2
}
